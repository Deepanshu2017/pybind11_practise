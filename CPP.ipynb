{
 "cells": [
  {
   "cell_type": "code",
   "execution_count": 1,
   "metadata": {
    "collapsed": true
   },
   "outputs": [],
   "source": [
    "%reload_ext bp_magic"
   ]
  },
  {
   "cell_type": "code",
   "execution_count": 6,
   "metadata": {
    "collapsed": true
   },
   "outputs": [],
   "source": [
    "%%bp_module foo\n",
    "\n",
    "#include <pybind11/pybind11.h>\n",
    "# include <pybind11/stl.h>\n",
    "#include <iostream>\n",
    "#include <pybind11/stl_bind.h>\n",
    "\n",
    "namespace py=pybind11;\n",
    "\n",
    "PYBIND11_MAKE_OPAQUE(std::vector<double>);\n",
    "\n",
    "\n",
    "void function(std::size_t size, double* a) {\n",
    "  for (std::size_t i = 0; i < size; ++i)\n",
    "    a[i] += 42;\n",
    "}\n",
    "\n",
    "void wrapper(std::vector<double>& vec) {\n",
    "  std::cout << \"I am in my function calling\" << std::endl;\n",
    "  // Output will show on the system console. :(\n",
    "  for (auto i = vec.begin(); i != vec.end(); ++i)\n",
    "    *i += 100;\n",
    "  //function(vec.size(), vec.data())\n",
    "}\n",
    "\n",
    "\n",
    "PYBIND11_MODULE(foo, m) {\n",
    "  py::bind_vector<std::vector<double>>(m, \"DVector\");\n",
    "  m.def(\"function\", &wrapper);\n",
    "}\n"
   ]
  }
 ],
 "metadata": {
  "kernelspec": {
   "display_name": "Python 3",
   "language": "python",
   "name": "python3"
  },
  "language_info": {
   "codemirror_mode": {
    "name": "ipython",
    "version": 3
   },
   "file_extension": ".py",
   "mimetype": "text/x-python",
   "name": "python",
   "nbconvert_exporter": "python",
   "pygments_lexer": "ipython3",
   "version": "3.5.2"
  }
 },
 "nbformat": 4,
 "nbformat_minor": 1
}
